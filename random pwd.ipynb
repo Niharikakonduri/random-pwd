{
 "cells": [
  {
   "cell_type": "code",
   "execution_count": 1,
   "id": "24167895-801f-451a-9cae-0a5143362646",
   "metadata": {},
   "outputs": [
    {
     "name": "stdin",
     "output_type": "stream",
     "text": [
      "Enter length of password 9\n"
     ]
    },
    {
     "name": "stdout",
     "output_type": "stream",
     "text": [
      "}felg_wF*\n"
     ]
    }
   ],
   "source": [
    "#RANDOM PASSSWORD GENERATOR\n",
    "import string\n",
    "import random\n",
    "len=int(input(\"Enter length of password\"))\n",
    "\n",
    "\"\"\"lower=string.ascii_lowercase\n",
    "upper=string.ascii_uppercase\n",
    "digit=string.digits\n",
    "symbols=string.punctuations\n",
    "\n",
    "str=lower+upper+digits+symbols\"\"\"\n",
    "str=string.printable\n",
    "\n",
    "pwd=random.sample(str,len)\n",
    "\n",
    "password=\"\".join(pwd)\n",
    "print(password)\n"
   ]
  },
  {
   "cell_type": "code",
   "execution_count": 3,
   "id": "b5f0ee53-e2ee-4a39-b45b-3ccd677b6c1f",
   "metadata": {},
   "outputs": [
    {
     "name": "stdin",
     "output_type": "stream",
     "text": [
      "Enter No.of Lowercase charcaters 1\n",
      "Enter No.of Uppercase characters 4\n",
      "Enter No.of digits 3\n",
      "Enter No.of symbols 1\n"
     ]
    },
    {
     "name": "stdout",
     "output_type": "stream",
     "text": [
      "password is : HL2A14T)b\n"
     ]
    }
   ],
   "source": [
    "import string\n",
    "import random\n",
    "\n",
    "lower_len=int(input(\"Enter No.of Lowercase charcaters\"))\n",
    "upper_len=int(input(\"Enter No.of Uppercase characters\"))\n",
    "digit_len=int(input(\"Enter No.of digits\"))\n",
    "symbol_len=int(input(\"Enter No.of symbols\"))\n",
    "\n",
    "pwd_len=lower_len+upper_len+digit_len+symbol_len\n",
    "\n",
    "lower=string.ascii_lowercase\n",
    "upper=string.ascii_uppercase\n",
    "digit=string.digits\n",
    "symbol=string.punctuation\n",
    "\n",
    "str=random.choices(lower,k=lower_len)+random.choices(upper,k=upper_len)+random.choices(digit,k=digit_len)+random.choices(symbol,k=symbol_len)\n",
    "\n",
    "random.shuffle(str)\n",
    "password=\"\".join(str)\n",
    "print(\"password is :\",password)"
   ]
  },
  {
   "cell_type": "code",
   "execution_count": null,
   "id": "23dac835-5779-4a47-92f8-d6432568f1e0",
   "metadata": {},
   "outputs": [],
   "source": []
  }
 ],
 "metadata": {
  "kernelspec": {
   "display_name": "Python 3 (ipykernel)",
   "language": "python",
   "name": "python3"
  },
  "language_info": {
   "codemirror_mode": {
    "name": "ipython",
    "version": 3
   },
   "file_extension": ".py",
   "mimetype": "text/x-python",
   "name": "python",
   "nbconvert_exporter": "python",
   "pygments_lexer": "ipython3",
   "version": "3.11.5"
  }
 },
 "nbformat": 4,
 "nbformat_minor": 5
}
